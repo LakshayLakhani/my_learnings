{
 "cells": [
  {
   "cell_type": "code",
   "execution_count": 28,
   "metadata": {},
   "outputs": [],
   "source": [
    "import tensorflow as tf"
   ]
  },
  {
   "cell_type": "code",
   "execution_count": 3,
   "metadata": {},
   "outputs": [
    {
     "data": {
      "text/plain": [
       "'1.13.0-rc1'"
      ]
     },
     "execution_count": 3,
     "metadata": {},
     "output_type": "execute_result"
    }
   ],
   "source": [
    "tf.__version__"
   ]
  },
  {
   "cell_type": "code",
   "execution_count": 4,
   "metadata": {},
   "outputs": [
    {
     "data": {
      "text/plain": [
       "<tf.Tensor 'Const:0' shape=() dtype=string>"
      ]
     },
     "execution_count": 4,
     "metadata": {},
     "output_type": "execute_result"
    }
   ],
   "source": [
    "hello = tf.constant(\"hello\")\n",
    "hello"
   ]
  },
  {
   "cell_type": "code",
   "execution_count": 5,
   "metadata": {},
   "outputs": [
    {
     "data": {
      "text/plain": [
       "<tf.Tensor 'Const_1:0' shape=() dtype=string>"
      ]
     },
     "execution_count": 5,
     "metadata": {},
     "output_type": "execute_result"
    }
   ],
   "source": [
    "world = tf.constant(\"World\")\n",
    "world"
   ]
  },
  {
   "cell_type": "code",
   "execution_count": 6,
   "metadata": {},
   "outputs": [
    {
     "data": {
      "text/plain": [
       "tensorflow.python.framework.ops.Tensor"
      ]
     },
     "execution_count": 6,
     "metadata": {},
     "output_type": "execute_result"
    }
   ],
   "source": [
    "type(hello)"
   ]
  },
  {
   "cell_type": "code",
   "execution_count": 7,
   "metadata": {},
   "outputs": [
    {
     "name": "stdout",
     "output_type": "stream",
     "text": [
      "Tensor(\"Const:0\", shape=(), dtype=string)\n"
     ]
    }
   ],
   "source": [
    "print(hello)"
   ]
  },
  {
   "cell_type": "code",
   "execution_count": 8,
   "metadata": {},
   "outputs": [],
   "source": [
    " with tf.Session() as sess:\n",
    "        result = sess.run(hello+world)"
   ]
  },
  {
   "cell_type": "code",
   "execution_count": 9,
   "metadata": {},
   "outputs": [
    {
     "data": {
      "text/plain": [
       "b'helloWorld'"
      ]
     },
     "execution_count": 9,
     "metadata": {},
     "output_type": "execute_result"
    }
   ],
   "source": [
    "result"
   ]
  },
  {
   "cell_type": "code",
   "execution_count": 10,
   "metadata": {},
   "outputs": [
    {
     "data": {
      "text/plain": [
       "<tf.Tensor 'add_1:0' shape=() dtype=int32>"
      ]
     },
     "execution_count": 10,
     "metadata": {},
     "output_type": "execute_result"
    }
   ],
   "source": [
    "var1 = tf.constant(10)\n",
    "var2 = tf.constant(30)\n",
    "\n",
    "var1 + var2"
   ]
  },
  {
   "cell_type": "code",
   "execution_count": 11,
   "metadata": {},
   "outputs": [],
   "source": [
    "with tf.Session() as sess:\n",
    "    result = sess.run(var1+var2)"
   ]
  },
  {
   "cell_type": "code",
   "execution_count": 12,
   "metadata": {},
   "outputs": [
    {
     "data": {
      "text/plain": [
       "40"
      ]
     },
     "execution_count": 12,
     "metadata": {},
     "output_type": "execute_result"
    }
   ],
   "source": [
    "result"
   ]
  },
  {
   "cell_type": "code",
   "execution_count": 13,
   "metadata": {},
   "outputs": [],
   "source": [
    "const = tf.constant(10)"
   ]
  },
  {
   "cell_type": "code",
   "execution_count": 33,
   "metadata": {},
   "outputs": [],
   "source": [
    "mat_1 = tf.fill((5,5),10)\n",
    "\n",
    "# output\n",
    "# [[10 10 10 10 10]\n",
    "#  [10 10 10 10 10]\n",
    "#  [10 10 10 10 10]\n",
    "#  [10 10 10 10 10]\n",
    "#  [10 10 10 10 10]]\n"
   ]
  },
  {
   "cell_type": "code",
   "execution_count": 15,
   "metadata": {},
   "outputs": [
    {
     "data": {
      "text/plain": [
       "<tf.Tensor 'zeros:0' shape=(5, 5) dtype=float32>"
      ]
     },
     "execution_count": 15,
     "metadata": {},
     "output_type": "execute_result"
    }
   ],
   "source": [
    "zeros = tf.zeros((5,5))\n",
    "\n",
    "#output \n",
    "# [[0. 0. 0. 0. 0.]\n",
    "#  [0. 0. 0. 0. 0.]\n",
    "#  [0. 0. 0. 0. 0.]\n",
    "#  [0. 0. 0. 0. 0.]\n",
    "#  [0. 0. 0. 0. 0.]]\n"
   ]
  },
  {
   "cell_type": "code",
   "execution_count": 36,
   "metadata": {},
   "outputs": [],
   "source": [
    "ones = tf.ones((5,5))\n",
    "\n",
    "#output \n",
    "# [[1. 1. 1. 1. 1.]\n",
    "#  [1. 1. 1. 1. 1.]\n",
    "#  [1. 1. 1. 1. 1.]\n",
    "#  [1. 1. 1. 1. 1.]\n",
    "#  [1. 1. 1. 1. 1.]]\n"
   ]
  },
  {
   "cell_type": "code",
   "execution_count": 39,
   "metadata": {},
   "outputs": [],
   "source": [
    "randn = tf.random_normal((4,4), mean=0, stddev=1.0) #normal dstribution\n",
    "\n",
    "#output\n",
    "# [[ 1.3528444   1.9706491  -2.9234462  -0.7638081 ]\n",
    "#  [-0.11207984  2.0881774  -0.5741538   0.1687726 ]\n",
    "#  [-0.36480325  2.4304276   0.26898375 -0.0402476 ]\n",
    "#  [-1.0585244   0.94118494 -1.2755234   1.7524296 ]]\n"
   ]
  },
  {
   "cell_type": "code",
   "execution_count": 18,
   "metadata": {},
   "outputs": [],
   "source": [
    "randu = tf.random_uniform((4,4), minval=0, maxval=1) #uniform distribution\n",
    "\n",
    "#output\n",
    "# [[0.8449396  0.11132193 0.68254864 0.28614902]\n",
    "#  [0.49649584 0.5770695  0.23227024 0.587958  ]\n",
    "#  [0.03491473 0.4098816  0.92555606 0.13194072]\n",
    "#  [0.69335175 0.31644475 0.6709788  0.66748667]]\n"
   ]
  },
  {
   "cell_type": "code",
   "execution_count": 42,
   "metadata": {},
   "outputs": [
    {
     "data": {
      "text/plain": [
       "[<tf.Tensor 'Const_4:0' shape=() dtype=int32>,\n",
       " <tf.Tensor 'Fill_2:0' shape=(5, 5) dtype=int32>,\n",
       " <tf.Tensor 'zeros:0' shape=(5, 5) dtype=float32>,\n",
       " <tf.Tensor 'ones_2:0' shape=(5, 5) dtype=float32>,\n",
       " <tf.Tensor 'random_normal_1:0' shape=(4, 4) dtype=float32>,\n",
       " <tf.Tensor 'random_uniform:0' shape=(4, 4) dtype=float32>]"
      ]
     },
     "execution_count": 42,
     "metadata": {},
     "output_type": "execute_result"
    }
   ],
   "source": [
    "myops = [const, mat_1, zeros, ones, randn, randu]\n",
    "myops"
   ]
  },
  {
   "cell_type": "code",
   "execution_count": 44,
   "metadata": {},
   "outputs": [
    {
     "name": "stdout",
     "output_type": "stream",
     "text": [
      "[10, array([[10, 10, 10, 10, 10],\n",
      "       [10, 10, 10, 10, 10],\n",
      "       [10, 10, 10, 10, 10],\n",
      "       [10, 10, 10, 10, 10],\n",
      "       [10, 10, 10, 10, 10]]), array([[0., 0., 0., 0., 0.],\n",
      "       [0., 0., 0., 0., 0.],\n",
      "       [0., 0., 0., 0., 0.],\n",
      "       [0., 0., 0., 0., 0.],\n",
      "       [0., 0., 0., 0., 0.]], dtype=float32), array([[1., 1., 1., 1., 1.],\n",
      "       [1., 1., 1., 1., 1.],\n",
      "       [1., 1., 1., 1., 1.],\n",
      "       [1., 1., 1., 1., 1.],\n",
      "       [1., 1., 1., 1., 1.]], dtype=float32), array([[ 0.07074768,  0.44289342,  0.17759322, -1.0041325 ],\n",
      "       [-0.36544147,  0.83512646,  0.68504083, -2.1949146 ],\n",
      "       [-1.1495737 ,  0.8690187 ,  0.49160063, -1.1674874 ],\n",
      "       [ 0.1777285 ,  0.9367899 , -1.0541655 , -0.7722622 ]],\n",
      "      dtype=float32), array([[0.25063705, 0.33984768, 0.3140663 , 0.7935692 ],\n",
      "       [0.7851356 , 0.3785559 , 0.15913332, 0.68978333],\n",
      "       [0.6738666 , 0.47559226, 0.67696726, 0.66681707],\n",
      "       [0.5421804 , 0.55404663, 0.54536617, 0.0200119 ]], dtype=float32)]\n"
     ]
    }
   ],
   "source": [
    "with tf.Session() as sess:\n",
    "    result = sess.run(myops)\n",
    "    print(result)\n"
   ]
  },
  {
   "cell_type": "code",
   "execution_count": 20,
   "metadata": {},
   "outputs": [],
   "source": [
    "sess = tf.InteractiveSession()"
   ]
  },
  {
   "cell_type": "code",
   "execution_count": 21,
   "metadata": {},
   "outputs": [
    {
     "name": "stdout",
     "output_type": "stream",
     "text": [
      "10\n",
      "\n",
      "\n",
      "[[10 10 10 10 10]\n",
      " [10 10 10 10 10]\n",
      " [10 10 10 10 10]\n",
      " [10 10 10 10 10]\n",
      " [10 10 10 10 10]]\n",
      "\n",
      "\n",
      "[[0. 0. 0. 0. 0.]\n",
      " [0. 0. 0. 0. 0.]\n",
      " [0. 0. 0. 0. 0.]\n",
      " [0. 0. 0. 0. 0.]\n",
      " [0. 0. 0. 0. 0.]]\n",
      "\n",
      "\n",
      "[[1. 1. 1. 1. 1.]\n",
      " [1. 1. 1. 1. 1.]\n",
      " [1. 1. 1. 1. 1.]\n",
      " [1. 1. 1. 1. 1.]\n",
      " [1. 1. 1. 1. 1.]]\n",
      "\n",
      "\n",
      "[[ 0.14061095 -1.7857347  -0.25391906 -0.6744037 ]\n",
      " [ 0.19787367  0.067743    0.06061641 -0.9052059 ]\n",
      " [ 0.5022889   0.4375519   0.19083269  0.57796985]\n",
      " [ 0.08303713  0.89130914  1.2621524  -1.1117582 ]]\n",
      "\n",
      "\n",
      "[[0.36442077 0.0051235  0.91495574 0.8060101 ]\n",
      " [0.39075816 0.47467315 0.41400182 0.01170897]\n",
      " [0.7137455  0.6104454  0.82351744 0.417485  ]\n",
      " [0.12349093 0.8497832  0.4400555  0.28436232]]\n",
      "\n",
      "\n"
     ]
    }
   ],
   "source": [
    "for op in myops:\n",
    "#     print(sess.run(op))\n",
    "    print(op.eval()) #\n",
    "    print(\"\\n\")"
   ]
  },
  {
   "cell_type": "code",
   "execution_count": 22,
   "metadata": {},
   "outputs": [],
   "source": [
    "a = tf.constant([[1,2],[3,4]])"
   ]
  },
  {
   "cell_type": "code",
   "execution_count": 23,
   "metadata": {},
   "outputs": [
    {
     "data": {
      "text/plain": [
       "TensorShape([Dimension(2), Dimension(2)])"
      ]
     },
     "execution_count": 23,
     "metadata": {},
     "output_type": "execute_result"
    }
   ],
   "source": [
    "a.get_shape()"
   ]
  },
  {
   "cell_type": "code",
   "execution_count": 24,
   "metadata": {},
   "outputs": [],
   "source": [
    "b = tf.constant([[10],[100]])"
   ]
  },
  {
   "cell_type": "code",
   "execution_count": 25,
   "metadata": {},
   "outputs": [
    {
     "data": {
      "text/plain": [
       "TensorShape([Dimension(2), Dimension(1)])"
      ]
     },
     "execution_count": 25,
     "metadata": {},
     "output_type": "execute_result"
    }
   ],
   "source": [
    "b.get_shape()"
   ]
  },
  {
   "cell_type": "code",
   "execution_count": 26,
   "metadata": {},
   "outputs": [],
   "source": [
    "result = tf.matmul(a,b)"
   ]
  },
  {
   "cell_type": "code",
   "execution_count": 27,
   "metadata": {},
   "outputs": [
    {
     "data": {
      "text/plain": [
       "array([[210],\n",
       "       [430]])"
      ]
     },
     "execution_count": 27,
     "metadata": {},
     "output_type": "execute_result"
    }
   ],
   "source": [
    "sess.run(result)"
   ]
  },
  {
   "cell_type": "code",
   "execution_count": null,
   "metadata": {},
   "outputs": [],
   "source": []
  },
  {
   "cell_type": "code",
   "execution_count": null,
   "metadata": {},
   "outputs": [],
   "source": []
  },
  {
   "cell_type": "code",
   "execution_count": null,
   "metadata": {},
   "outputs": [],
   "source": []
  }
 ],
 "metadata": {
  "kernelspec": {
   "display_name": "Python 3",
   "language": "python",
   "name": "python3"
  },
  "language_info": {
   "codemirror_mode": {
    "name": "ipython",
    "version": 3
   },
   "file_extension": ".py",
   "mimetype": "text/x-python",
   "name": "python",
   "nbconvert_exporter": "python",
   "pygments_lexer": "ipython3",
   "version": "3.7.6"
  }
 },
 "nbformat": 4,
 "nbformat_minor": 4
}
